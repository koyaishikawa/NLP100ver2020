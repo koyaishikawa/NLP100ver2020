{
 "cells": [
  {
   "cell_type": "code",
   "execution_count": 1,
   "metadata": {},
   "outputs": [],
   "source": [
    "#00"
   ]
  },
  {
   "cell_type": "code",
   "execution_count": 2,
   "metadata": {},
   "outputs": [
    {
     "data": {
      "text/plain": [
       "'desserts'"
      ]
     },
     "execution_count": 2,
     "metadata": {},
     "output_type": "execute_result"
    }
   ],
   "source": [
    "text = 'stressed'\n",
    "text[::-1]"
   ]
  },
  {
   "cell_type": "code",
   "execution_count": 3,
   "metadata": {},
   "outputs": [],
   "source": [
    "#01"
   ]
  },
  {
   "cell_type": "code",
   "execution_count": 4,
   "metadata": {},
   "outputs": [
    {
     "data": {
      "text/plain": [
       "'タクシー'"
      ]
     },
     "execution_count": 4,
     "metadata": {},
     "output_type": "execute_result"
    }
   ],
   "source": [
    "text = 'パタトクカシーー'\n",
    "text[1::2]"
   ]
  },
  {
   "cell_type": "code",
   "execution_count": 5,
   "metadata": {},
   "outputs": [],
   "source": [
    "#02"
   ]
  },
  {
   "cell_type": "code",
   "execution_count": 6,
   "metadata": {},
   "outputs": [
    {
     "data": {
      "text/plain": [
       "'パタトクカシーー'"
      ]
     },
     "execution_count": 6,
     "metadata": {},
     "output_type": "execute_result"
    }
   ],
   "source": [
    "pat = 'パトカー'\n",
    "tax = 'タクシー'\n",
    "text=''\n",
    "for i,k in zip(pat,tax):\n",
    "    text += (i+k)\n",
    "text"
   ]
  },
  {
   "cell_type": "code",
   "execution_count": 7,
   "metadata": {},
   "outputs": [],
   "source": [
    "#03"
   ]
  },
  {
   "cell_type": "code",
   "execution_count": 8,
   "metadata": {},
   "outputs": [
    {
     "data": {
      "text/plain": [
       "[3, 1, 4, 1, 5, 9, 2, 6, 5, 3, 5, 8, 9, 7, 9]"
      ]
     },
     "execution_count": 8,
     "metadata": {},
     "output_type": "execute_result"
    }
   ],
   "source": [
    "text = 'Now I need a drink, alcoholic of course, after the heavy lectures involving quantum mechanics.'\n",
    "text = text.replace(',','')\n",
    "text = text.replace('.','')\n",
    "text_list = text.split(' ')\n",
    "num_list = []\n",
    "for i in text_list:\n",
    "    num_list.append(len(i))\n",
    "num_list"
   ]
  },
  {
   "cell_type": "code",
   "execution_count": 9,
   "metadata": {},
   "outputs": [],
   "source": [
    "#[len(w) for w in text.split()] #これで簡略化できる"
   ]
  },
  {
   "cell_type": "code",
   "execution_count": 10,
   "metadata": {},
   "outputs": [],
   "source": [
    "#04"
   ]
  },
  {
   "cell_type": "code",
   "execution_count": 11,
   "metadata": {},
   "outputs": [
    {
     "data": {
      "text/plain": [
       "{'H': 1,\n",
       " 'He': 2,\n",
       " 'Li': 3,\n",
       " 'Be': 4,\n",
       " 'B': 5,\n",
       " 'C': 6,\n",
       " 'N': 7,\n",
       " 'O': 8,\n",
       " 'F': 9,\n",
       " 'Ne': 10,\n",
       " 'Na': 11,\n",
       " 'Mi': 12,\n",
       " 'Al': 13,\n",
       " 'Si': 14,\n",
       " 'P': 15,\n",
       " 'S': 16,\n",
       " 'Cl': 17,\n",
       " 'Ar': 18,\n",
       " 'K': 19,\n",
       " 'Ca': 20}"
      ]
     },
     "execution_count": 11,
     "metadata": {},
     "output_type": "execute_result"
    }
   ],
   "source": [
    "raw_text = 'Hi He Lied Because Boron Could Not Oxidize Fluorine. New Nations Might Also Sign Peace Security Clause. Arthur King Can.'\n",
    "\n",
    "num = [1,5,6,7,8,9,15,16,19]\n",
    "head_list = [word[0] if i in num else word[:2] for i,word in enumerate(raw_text.split(),1) ]\n",
    "num_list = list(range(1,len(head_list)+1))\n",
    "dict(zip(head_list,num_list))"
   ]
  },
  {
   "cell_type": "code",
   "execution_count": 12,
   "metadata": {},
   "outputs": [],
   "source": [
    "#05"
   ]
  },
  {
   "cell_type": "code",
   "execution_count": 13,
   "metadata": {},
   "outputs": [],
   "source": [
    "def n_gram(text, num, mode): #mode = {0:word, 1:char}\n",
    "    if mode == 1:\n",
    "        if text == list:\n",
    "            text = ' ',join(text)\n",
    "        ans = [text[i:i+num] for i in range(len(text)-(num-1))]\n",
    "    \n",
    "    elif mode == 0:\n",
    "        if type(text) == str:\n",
    "            text = text.replace(',',' ').replace('.',' ').split()\n",
    "        \n",
    "        ans = [' '.join(text[i:i+num]) for i in range(len(text)-(num-1))]\n",
    "        \n",
    "    return ans"
   ]
  },
  {
   "cell_type": "code",
   "execution_count": 14,
   "metadata": {},
   "outputs": [
    {
     "name": "stdout",
     "output_type": "stream",
     "text": [
      "['I ', ' a', 'am', 'm ', ' a', 'an', 'n ', ' N', 'NL', 'LP', 'Pe', 'er']\n",
      "['I am', 'am an', 'an NLPer']\n"
     ]
    }
   ],
   "source": [
    "text = 'I am an NLPer'\n",
    "print(n_gram(text,2,1))#文字gram\n",
    "print(n_gram(text,2,0))#単語gram"
   ]
  },
  {
   "cell_type": "code",
   "execution_count": 15,
   "metadata": {},
   "outputs": [],
   "source": [
    "#06"
   ]
  },
  {
   "cell_type": "code",
   "execution_count": 16,
   "metadata": {},
   "outputs": [],
   "source": [
    "text_1 = 'paraparaparadise'\n",
    "text_2 = 'paragraph'\n",
    "X = n_gram(text_1,2,1)\n",
    "Y = n_gram(text_2,2,1)\n",
    "X_set = set(X)\n",
    "Y_set = set(Y)\n",
    "sumXY = X_set | Y_set\n",
    "multiXY = X_set & Y_set\n",
    "diffXY = X_set ^ Y_set"
   ]
  },
  {
   "cell_type": "code",
   "execution_count": 17,
   "metadata": {},
   "outputs": [
    {
     "name": "stdout",
     "output_type": "stream",
     "text": [
      "{'ag', 'ph', 'pa', 'ra', 'is', 'ad', 'ap', 'gr', 'se', 'di', 'ar'} {'ra', 'pa', 'ar', 'ap'} {'ag', 'ph', 'is', 'ad', 'gr', 'se', 'di'}\n"
     ]
    }
   ],
   "source": [
    "print(sumXY,multiXY,diffXY)"
   ]
  },
  {
   "cell_type": "code",
   "execution_count": 18,
   "metadata": {},
   "outputs": [
    {
     "name": "stdout",
     "output_type": "stream",
     "text": [
      "True\n",
      "False\n"
     ]
    }
   ],
   "source": [
    "print('se' in X_set)\n",
    "print('se' in Y_set)"
   ]
  },
  {
   "cell_type": "code",
   "execution_count": 19,
   "metadata": {},
   "outputs": [],
   "source": [
    "#07"
   ]
  },
  {
   "cell_type": "code",
   "execution_count": 20,
   "metadata": {},
   "outputs": [],
   "source": [
    "def xyz(x,y,z):\n",
    "    return f'{str(x)}時の{y}は{str(z)}'"
   ]
  },
  {
   "cell_type": "code",
   "execution_count": 21,
   "metadata": {},
   "outputs": [
    {
     "data": {
      "text/plain": [
       "'12時の気温は22.4'"
      ]
     },
     "execution_count": 21,
     "metadata": {},
     "output_type": "execute_result"
    }
   ],
   "source": [
    "xyz(12,'気温',22.4)"
   ]
  },
  {
   "cell_type": "code",
   "execution_count": 22,
   "metadata": {},
   "outputs": [],
   "source": [
    "#08"
   ]
  },
  {
   "cell_type": "code",
   "execution_count": 23,
   "metadata": {},
   "outputs": [],
   "source": [
    "def cipher(text):\n",
    "    ans = [chr(219-ord(char)) if 97 <= ord(char) <= 122 else char for char in text]\n",
    "    return ''.join(ans)"
   ]
  },
  {
   "cell_type": "code",
   "execution_count": 24,
   "metadata": {},
   "outputs": [
    {
     "name": "stdout",
     "output_type": "stream",
     "text": [
      "zyxABC\n",
      "abcABC\n"
     ]
    }
   ],
   "source": [
    "text = 'abcABC'\n",
    "ciph = cipher(text)#暗号化\n",
    "rest = cipher(ciph) #復元化\n",
    "print(ciph)\n",
    "print(rest)"
   ]
  },
  {
   "cell_type": "code",
   "execution_count": 25,
   "metadata": {},
   "outputs": [],
   "source": [
    "#09"
   ]
  },
  {
   "cell_type": "code",
   "execution_count": 26,
   "metadata": {},
   "outputs": [],
   "source": [
    "import random"
   ]
  },
  {
   "cell_type": "code",
   "execution_count": 27,
   "metadata": {},
   "outputs": [],
   "source": [
    "text = 'I couldn’t believe that I could actually understand what I was reading : the phenomenal power of the human mind .'\n",
    "\n",
    "text_list = text.replace('.',' ').replace(':',' ').split()"
   ]
  },
  {
   "cell_type": "code",
   "execution_count": 28,
   "metadata": {},
   "outputs": [
    {
     "data": {
      "text/plain": [
       "'I culd’ont beelive that I culod atulcaly ueansntdrd what I was rndieag the pnhoneemal peowr of the huamn mind'"
      ]
     },
     "execution_count": 28,
     "metadata": {},
     "output_type": "execute_result"
    }
   ],
   "source": [
    "new_list = [] \n",
    "for word in text_list:\n",
    "    if len(word) <= 4:\n",
    "        new_list.append(word)\n",
    "        continue\n",
    "    else:\n",
    "        shuffle_word = random.sample(list(word[1:-1]),len(word[1:-1]))\n",
    "        new_word = word[0]+''.join(shuffle_word)+word[-1]\n",
    "        new_list.append(new_word)\n",
    "\n",
    "' '.join(new_list)\n",
    "    \n",
    "        \n",
    "        "
   ]
  }
 ],
 "metadata": {
  "kernelspec": {
   "display_name": "Python 3",
   "language": "python",
   "name": "python3"
  },
  "language_info": {
   "codemirror_mode": {
    "name": "ipython",
    "version": 3
   },
   "file_extension": ".py",
   "mimetype": "text/x-python",
   "name": "python",
   "nbconvert_exporter": "python",
   "pygments_lexer": "ipython3",
   "version": "3.7.4"
  }
 },
 "nbformat": 4,
 "nbformat_minor": 2
}
